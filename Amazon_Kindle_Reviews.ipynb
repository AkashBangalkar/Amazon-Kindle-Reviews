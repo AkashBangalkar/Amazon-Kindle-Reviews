{
 "cells": [
  {
   "cell_type": "markdown",
   "metadata": {},
   "source": [
    "<font color=red><p style=\"font-size:32px;text-align:center\"><b>Amazon Kindle Reviews</b></p></font>"
   ]
  },
  {
   "cell_type": "markdown",
   "metadata": {},
   "source": [
    "<h3><font color=gren>Context</font></h3>\n",
    "- A small subset of dataset of product reviews from Amazon Kindle Store category.\n",
    "\n",
    "<h3><font color=gren>Content</font></h3>\n",
    "- Dataset of product reviews from Amazon Kindle Store category from May 1996 - July 2014. Contains total of 982619 entries. Each reviewer has at least 5 reviews and each product has at least 5 reviews in this dataset.\n",
    "\n",
    "\n",
    "- **Source:** <a href=\"https://www.kaggle.com/bharadwaj6/kindle-reviews\">Kaggle - Amazon Reviews: Kindle Store Category</a>"
   ]
  },
  {
   "cell_type": "markdown",
   "metadata": {},
   "source": [
    "<font color=DodgerBlue><h3>Loading and Reading Data</h3></font>"
   ]
  },
  {
   "cell_type": "code",
   "execution_count": 1,
   "metadata": {},
   "outputs": [],
   "source": [
    "import pandas as pd\n",
    "import numpy as np\n",
    "import matplotlib.pyplot as plt\n",
    "import warnings\n",
    "warnings.filterwarnings(\"ignore\")\n",
    "import seaborn as sns\n",
    "\n",
    "reviews_data = pd.read_csv(\"D:/Case Studies/Amazon Kindle Reviews/kindle_reviews.csv\")"
   ]
  },
  {
   "cell_type": "code",
   "execution_count": 2,
   "metadata": {},
   "outputs": [
    {
     "data": {
      "text/plain": [
       "(982619, 10)"
      ]
     },
     "execution_count": 2,
     "metadata": {},
     "output_type": "execute_result"
    }
   ],
   "source": [
    "reviews_data.shape"
   ]
  },
  {
   "cell_type": "code",
   "execution_count": 3,
   "metadata": {},
   "outputs": [
    {
     "data": {
      "text/plain": [
       "Index(['Unnamed: 0', 'asin', 'helpful', 'overall', 'reviewText', 'reviewTime',\n",
       "       'reviewerID', 'reviewerName', 'summary', 'unixReviewTime'],\n",
       "      dtype='object')"
      ]
     },
     "execution_count": 3,
     "metadata": {},
     "output_type": "execute_result"
    }
   ],
   "source": [
    "reviews_data.columns"
   ]
  },
  {
   "cell_type": "code",
   "execution_count": 4,
   "metadata": {},
   "outputs": [
    {
     "data": {
      "text/html": [
       "<div>\n",
       "<style scoped>\n",
       "    .dataframe tbody tr th:only-of-type {\n",
       "        vertical-align: middle;\n",
       "    }\n",
       "\n",
       "    .dataframe tbody tr th {\n",
       "        vertical-align: top;\n",
       "    }\n",
       "\n",
       "    .dataframe thead th {\n",
       "        text-align: right;\n",
       "    }\n",
       "</style>\n",
       "<table border=\"1\" class=\"dataframe\">\n",
       "  <thead>\n",
       "    <tr style=\"text-align: right;\">\n",
       "      <th></th>\n",
       "      <th>Unnamed: 0</th>\n",
       "      <th>asin</th>\n",
       "      <th>helpful</th>\n",
       "      <th>overall</th>\n",
       "      <th>reviewText</th>\n",
       "      <th>reviewTime</th>\n",
       "      <th>reviewerID</th>\n",
       "      <th>reviewerName</th>\n",
       "      <th>summary</th>\n",
       "      <th>unixReviewTime</th>\n",
       "    </tr>\n",
       "  </thead>\n",
       "  <tbody>\n",
       "    <tr>\n",
       "      <th>0</th>\n",
       "      <td>0</td>\n",
       "      <td>B000F83SZQ</td>\n",
       "      <td>[0, 0]</td>\n",
       "      <td>5</td>\n",
       "      <td>I enjoy vintage books and movies so I enjoyed ...</td>\n",
       "      <td>05 5, 2014</td>\n",
       "      <td>A1F6404F1VG29J</td>\n",
       "      <td>Avidreader</td>\n",
       "      <td>Nice vintage story</td>\n",
       "      <td>1399248000</td>\n",
       "    </tr>\n",
       "    <tr>\n",
       "      <th>1</th>\n",
       "      <td>1</td>\n",
       "      <td>B000F83SZQ</td>\n",
       "      <td>[2, 2]</td>\n",
       "      <td>4</td>\n",
       "      <td>This book is a reissue of an old one; the auth...</td>\n",
       "      <td>01 6, 2014</td>\n",
       "      <td>AN0N05A9LIJEQ</td>\n",
       "      <td>critters</td>\n",
       "      <td>Different...</td>\n",
       "      <td>1388966400</td>\n",
       "    </tr>\n",
       "    <tr>\n",
       "      <th>2</th>\n",
       "      <td>2</td>\n",
       "      <td>B000F83SZQ</td>\n",
       "      <td>[2, 2]</td>\n",
       "      <td>4</td>\n",
       "      <td>This was a fairly interesting read.  It had ol...</td>\n",
       "      <td>04 4, 2014</td>\n",
       "      <td>A795DMNCJILA6</td>\n",
       "      <td>dot</td>\n",
       "      <td>Oldie</td>\n",
       "      <td>1396569600</td>\n",
       "    </tr>\n",
       "    <tr>\n",
       "      <th>3</th>\n",
       "      <td>3</td>\n",
       "      <td>B000F83SZQ</td>\n",
       "      <td>[1, 1]</td>\n",
       "      <td>5</td>\n",
       "      <td>I'd never read any of the Amy Brewster mysteri...</td>\n",
       "      <td>02 19, 2014</td>\n",
       "      <td>A1FV0SX13TWVXQ</td>\n",
       "      <td>Elaine H. Turley \"Montana Songbird\"</td>\n",
       "      <td>I really liked it.</td>\n",
       "      <td>1392768000</td>\n",
       "    </tr>\n",
       "    <tr>\n",
       "      <th>4</th>\n",
       "      <td>4</td>\n",
       "      <td>B000F83SZQ</td>\n",
       "      <td>[0, 1]</td>\n",
       "      <td>4</td>\n",
       "      <td>If you like period pieces - clothing, lingo, y...</td>\n",
       "      <td>03 19, 2014</td>\n",
       "      <td>A3SPTOKDG7WBLN</td>\n",
       "      <td>Father Dowling Fan</td>\n",
       "      <td>Period Mystery</td>\n",
       "      <td>1395187200</td>\n",
       "    </tr>\n",
       "  </tbody>\n",
       "</table>\n",
       "</div>"
      ],
      "text/plain": [
       "   Unnamed: 0        asin helpful  overall  \\\n",
       "0           0  B000F83SZQ  [0, 0]        5   \n",
       "1           1  B000F83SZQ  [2, 2]        4   \n",
       "2           2  B000F83SZQ  [2, 2]        4   \n",
       "3           3  B000F83SZQ  [1, 1]        5   \n",
       "4           4  B000F83SZQ  [0, 1]        4   \n",
       "\n",
       "                                          reviewText   reviewTime  \\\n",
       "0  I enjoy vintage books and movies so I enjoyed ...   05 5, 2014   \n",
       "1  This book is a reissue of an old one; the auth...   01 6, 2014   \n",
       "2  This was a fairly interesting read.  It had ol...   04 4, 2014   \n",
       "3  I'd never read any of the Amy Brewster mysteri...  02 19, 2014   \n",
       "4  If you like period pieces - clothing, lingo, y...  03 19, 2014   \n",
       "\n",
       "       reviewerID                         reviewerName             summary  \\\n",
       "0  A1F6404F1VG29J                           Avidreader  Nice vintage story   \n",
       "1   AN0N05A9LIJEQ                             critters        Different...   \n",
       "2   A795DMNCJILA6                                  dot               Oldie   \n",
       "3  A1FV0SX13TWVXQ  Elaine H. Turley \"Montana Songbird\"  I really liked it.   \n",
       "4  A3SPTOKDG7WBLN                   Father Dowling Fan      Period Mystery   \n",
       "\n",
       "   unixReviewTime  \n",
       "0      1399248000  \n",
       "1      1388966400  \n",
       "2      1396569600  \n",
       "3      1392768000  \n",
       "4      1395187200  "
      ]
     },
     "execution_count": 4,
     "metadata": {},
     "output_type": "execute_result"
    }
   ],
   "source": [
    "reviews_data.head()"
   ]
  },
  {
   "cell_type": "markdown",
   "metadata": {},
   "source": [
    "- **<font color=MediumSeaGreen>Renaming Columns (Names)</font>**"
   ]
  },
  {
   "cell_type": "code",
   "execution_count": 5,
   "metadata": {},
   "outputs": [
    {
     "data": {
      "text/html": [
       "<div>\n",
       "<style scoped>\n",
       "    .dataframe tbody tr th:only-of-type {\n",
       "        vertical-align: middle;\n",
       "    }\n",
       "\n",
       "    .dataframe tbody tr th {\n",
       "        vertical-align: top;\n",
       "    }\n",
       "\n",
       "    .dataframe thead th {\n",
       "        text-align: right;\n",
       "    }\n",
       "</style>\n",
       "<table border=\"1\" class=\"dataframe\">\n",
       "  <thead>\n",
       "    <tr style=\"text-align: right;\">\n",
       "      <th></th>\n",
       "      <th>Unnamed: 0</th>\n",
       "      <th>ProductId</th>\n",
       "      <th>helpful</th>\n",
       "      <th>Score</th>\n",
       "      <th>Text</th>\n",
       "      <th>reviewTime</th>\n",
       "      <th>UserId</th>\n",
       "      <th>reviewerName</th>\n",
       "      <th>Summary</th>\n",
       "      <th>Time</th>\n",
       "    </tr>\n",
       "  </thead>\n",
       "  <tbody>\n",
       "    <tr>\n",
       "      <th>0</th>\n",
       "      <td>0</td>\n",
       "      <td>B000F83SZQ</td>\n",
       "      <td>[0, 0]</td>\n",
       "      <td>5</td>\n",
       "      <td>I enjoy vintage books and movies so I enjoyed ...</td>\n",
       "      <td>05 5, 2014</td>\n",
       "      <td>A1F6404F1VG29J</td>\n",
       "      <td>Avidreader</td>\n",
       "      <td>Nice vintage story</td>\n",
       "      <td>1399248000</td>\n",
       "    </tr>\n",
       "    <tr>\n",
       "      <th>1</th>\n",
       "      <td>1</td>\n",
       "      <td>B000F83SZQ</td>\n",
       "      <td>[2, 2]</td>\n",
       "      <td>4</td>\n",
       "      <td>This book is a reissue of an old one; the auth...</td>\n",
       "      <td>01 6, 2014</td>\n",
       "      <td>AN0N05A9LIJEQ</td>\n",
       "      <td>critters</td>\n",
       "      <td>Different...</td>\n",
       "      <td>1388966400</td>\n",
       "    </tr>\n",
       "    <tr>\n",
       "      <th>2</th>\n",
       "      <td>2</td>\n",
       "      <td>B000F83SZQ</td>\n",
       "      <td>[2, 2]</td>\n",
       "      <td>4</td>\n",
       "      <td>This was a fairly interesting read.  It had ol...</td>\n",
       "      <td>04 4, 2014</td>\n",
       "      <td>A795DMNCJILA6</td>\n",
       "      <td>dot</td>\n",
       "      <td>Oldie</td>\n",
       "      <td>1396569600</td>\n",
       "    </tr>\n",
       "    <tr>\n",
       "      <th>3</th>\n",
       "      <td>3</td>\n",
       "      <td>B000F83SZQ</td>\n",
       "      <td>[1, 1]</td>\n",
       "      <td>5</td>\n",
       "      <td>I'd never read any of the Amy Brewster mysteri...</td>\n",
       "      <td>02 19, 2014</td>\n",
       "      <td>A1FV0SX13TWVXQ</td>\n",
       "      <td>Elaine H. Turley \"Montana Songbird\"</td>\n",
       "      <td>I really liked it.</td>\n",
       "      <td>1392768000</td>\n",
       "    </tr>\n",
       "    <tr>\n",
       "      <th>4</th>\n",
       "      <td>4</td>\n",
       "      <td>B000F83SZQ</td>\n",
       "      <td>[0, 1]</td>\n",
       "      <td>4</td>\n",
       "      <td>If you like period pieces - clothing, lingo, y...</td>\n",
       "      <td>03 19, 2014</td>\n",
       "      <td>A3SPTOKDG7WBLN</td>\n",
       "      <td>Father Dowling Fan</td>\n",
       "      <td>Period Mystery</td>\n",
       "      <td>1395187200</td>\n",
       "    </tr>\n",
       "  </tbody>\n",
       "</table>\n",
       "</div>"
      ],
      "text/plain": [
       "   Unnamed: 0   ProductId helpful  Score  \\\n",
       "0           0  B000F83SZQ  [0, 0]      5   \n",
       "1           1  B000F83SZQ  [2, 2]      4   \n",
       "2           2  B000F83SZQ  [2, 2]      4   \n",
       "3           3  B000F83SZQ  [1, 1]      5   \n",
       "4           4  B000F83SZQ  [0, 1]      4   \n",
       "\n",
       "                                                Text   reviewTime  \\\n",
       "0  I enjoy vintage books and movies so I enjoyed ...   05 5, 2014   \n",
       "1  This book is a reissue of an old one; the auth...   01 6, 2014   \n",
       "2  This was a fairly interesting read.  It had ol...   04 4, 2014   \n",
       "3  I'd never read any of the Amy Brewster mysteri...  02 19, 2014   \n",
       "4  If you like period pieces - clothing, lingo, y...  03 19, 2014   \n",
       "\n",
       "           UserId                         reviewerName             Summary  \\\n",
       "0  A1F6404F1VG29J                           Avidreader  Nice vintage story   \n",
       "1   AN0N05A9LIJEQ                             critters        Different...   \n",
       "2   A795DMNCJILA6                                  dot               Oldie   \n",
       "3  A1FV0SX13TWVXQ  Elaine H. Turley \"Montana Songbird\"  I really liked it.   \n",
       "4  A3SPTOKDG7WBLN                   Father Dowling Fan      Period Mystery   \n",
       "\n",
       "         Time  \n",
       "0  1399248000  \n",
       "1  1388966400  \n",
       "2  1396569600  \n",
       "3  1392768000  \n",
       "4  1395187200  "
      ]
     },
     "execution_count": 5,
     "metadata": {},
     "output_type": "execute_result"
    }
   ],
   "source": [
    "reviews_data.rename(columns={'asin':'ProductId', 'overall':'Score', 'reviewText':'Text', 'reviewerID':'UserId', 'summary':'Summary', 'unixReviewTime':'Time'}, inplace=True)\n",
    "\n",
    "reviews_data.head()"
   ]
  },
  {
   "cell_type": "markdown",
   "metadata": {},
   "source": [
    "- **<font color=MediumSeaGreen>Drop Unwanted Columns</font>**"
   ]
  },
  {
   "cell_type": "code",
   "execution_count": 6,
   "metadata": {},
   "outputs": [
    {
     "data": {
      "text/html": [
       "<div>\n",
       "<style scoped>\n",
       "    .dataframe tbody tr th:only-of-type {\n",
       "        vertical-align: middle;\n",
       "    }\n",
       "\n",
       "    .dataframe tbody tr th {\n",
       "        vertical-align: top;\n",
       "    }\n",
       "\n",
       "    .dataframe thead th {\n",
       "        text-align: right;\n",
       "    }\n",
       "</style>\n",
       "<table border=\"1\" class=\"dataframe\">\n",
       "  <thead>\n",
       "    <tr style=\"text-align: right;\">\n",
       "      <th></th>\n",
       "      <th>ProductId</th>\n",
       "      <th>Score</th>\n",
       "      <th>Text</th>\n",
       "      <th>UserId</th>\n",
       "      <th>Summary</th>\n",
       "      <th>Time</th>\n",
       "    </tr>\n",
       "  </thead>\n",
       "  <tbody>\n",
       "    <tr>\n",
       "      <th>0</th>\n",
       "      <td>B000F83SZQ</td>\n",
       "      <td>5</td>\n",
       "      <td>I enjoy vintage books and movies so I enjoyed ...</td>\n",
       "      <td>A1F6404F1VG29J</td>\n",
       "      <td>Nice vintage story</td>\n",
       "      <td>1399248000</td>\n",
       "    </tr>\n",
       "    <tr>\n",
       "      <th>1</th>\n",
       "      <td>B000F83SZQ</td>\n",
       "      <td>4</td>\n",
       "      <td>This book is a reissue of an old one; the auth...</td>\n",
       "      <td>AN0N05A9LIJEQ</td>\n",
       "      <td>Different...</td>\n",
       "      <td>1388966400</td>\n",
       "    </tr>\n",
       "    <tr>\n",
       "      <th>2</th>\n",
       "      <td>B000F83SZQ</td>\n",
       "      <td>4</td>\n",
       "      <td>This was a fairly interesting read.  It had ol...</td>\n",
       "      <td>A795DMNCJILA6</td>\n",
       "      <td>Oldie</td>\n",
       "      <td>1396569600</td>\n",
       "    </tr>\n",
       "    <tr>\n",
       "      <th>3</th>\n",
       "      <td>B000F83SZQ</td>\n",
       "      <td>5</td>\n",
       "      <td>I'd never read any of the Amy Brewster mysteri...</td>\n",
       "      <td>A1FV0SX13TWVXQ</td>\n",
       "      <td>I really liked it.</td>\n",
       "      <td>1392768000</td>\n",
       "    </tr>\n",
       "    <tr>\n",
       "      <th>4</th>\n",
       "      <td>B000F83SZQ</td>\n",
       "      <td>4</td>\n",
       "      <td>If you like period pieces - clothing, lingo, y...</td>\n",
       "      <td>A3SPTOKDG7WBLN</td>\n",
       "      <td>Period Mystery</td>\n",
       "      <td>1395187200</td>\n",
       "    </tr>\n",
       "  </tbody>\n",
       "</table>\n",
       "</div>"
      ],
      "text/plain": [
       "    ProductId  Score                                               Text  \\\n",
       "0  B000F83SZQ      5  I enjoy vintage books and movies so I enjoyed ...   \n",
       "1  B000F83SZQ      4  This book is a reissue of an old one; the auth...   \n",
       "2  B000F83SZQ      4  This was a fairly interesting read.  It had ol...   \n",
       "3  B000F83SZQ      5  I'd never read any of the Amy Brewster mysteri...   \n",
       "4  B000F83SZQ      4  If you like period pieces - clothing, lingo, y...   \n",
       "\n",
       "           UserId             Summary        Time  \n",
       "0  A1F6404F1VG29J  Nice vintage story  1399248000  \n",
       "1   AN0N05A9LIJEQ        Different...  1388966400  \n",
       "2   A795DMNCJILA6               Oldie  1396569600  \n",
       "3  A1FV0SX13TWVXQ  I really liked it.  1392768000  \n",
       "4  A3SPTOKDG7WBLN      Period Mystery  1395187200  "
      ]
     },
     "execution_count": 6,
     "metadata": {},
     "output_type": "execute_result"
    }
   ],
   "source": [
    "reviews_data.drop(['Unnamed: 0','helpful','reviewTime','reviewerName'], axis=1, inplace=True)\n",
    "\n",
    "reviews_data.head()"
   ]
  },
  {
   "cell_type": "markdown",
   "metadata": {},
   "source": [
    "- **<font color=MediumSeaGreen>Distribution of Reviews Per Score</font>**"
   ]
  },
  {
   "cell_type": "code",
   "execution_count": 7,
   "metadata": {},
   "outputs": [
    {
     "data": {
      "image/png": "[encoded data removed]",
      "text/plain": [
       "<Figure size 720x432 with 1 Axes>"
      ]
     },
     "metadata": {
      "needs_background": "light"
     },
     "output_type": "display_data"
    }
   ],
   "source": [
    "category_dist = reviews_data['Score'].value_counts()\n",
    "\n",
    "plt.figure(figsize=(10,6))\n",
    "my_colors = ['g', 'r', 'b', 'm', 'y']\n",
    "category_dist.plot(kind='bar', color=my_colors)\n",
    "plt.grid()\n",
    "plt.xlabel(\"Scores\")\n",
    "plt.ylabel(\"Number of Reviews Per Score\")\n",
    "plt.title(\"Distribution of Reviews Per Score\")\n",
    "plt.show()"
   ]
  },
  {
   "cell_type": "markdown",
   "metadata": {},
   "source": [
    "- <p style=\"font-size:15px\">Filtering only positive and negative reviews i.e., not taking into consideration those reviews with Score=3.</p>"
   ]
  },
  {
   "cell_type": "code",
   "execution_count": 8,
   "metadata": {},
   "outputs": [
    {
     "data": {
      "text/plain": [
       "(886425, 6)"
      ]
     },
     "execution_count": 8,
     "metadata": {},
     "output_type": "execute_result"
    }
   ],
   "source": [
    "reviews_data = reviews_data.loc[reviews_data['Score'] != 3]\n",
    "\n",
    "reviews_data.shape"
   ]
  },
  {
   "cell_type": "code",
   "execution_count": 9,
   "metadata": {},
   "outputs": [
    {
     "data": {
      "text/html": [
       "<div>\n",
       "<style scoped>\n",
       "    .dataframe tbody tr th:only-of-type {\n",
       "        vertical-align: middle;\n",
       "    }\n",
       "\n",
       "    .dataframe tbody tr th {\n",
       "        vertical-align: top;\n",
       "    }\n",
       "\n",
       "    .dataframe thead th {\n",
       "        text-align: right;\n",
       "    }\n",
       "</style>\n",
       "<table border=\"1\" class=\"dataframe\">\n",
       "  <thead>\n",
       "    <tr style=\"text-align: right;\">\n",
       "      <th></th>\n",
       "      <th>ProductId</th>\n",
       "      <th>Score</th>\n",
       "      <th>Text</th>\n",
       "      <th>UserId</th>\n",
       "      <th>Summary</th>\n",
       "      <th>Time</th>\n",
       "    </tr>\n",
       "  </thead>\n",
       "  <tbody>\n",
       "    <tr>\n",
       "      <th>0</th>\n",
       "      <td>B000F83SZQ</td>\n",
       "      <td>Positive</td>\n",
       "      <td>I enjoy vintage books and movies so I enjoyed ...</td>\n",
       "      <td>A1F6404F1VG29J</td>\n",
       "      <td>Nice vintage story</td>\n",
       "      <td>1399248000</td>\n",
       "    </tr>\n",
       "    <tr>\n",
       "      <th>1</th>\n",
       "      <td>B000F83SZQ</td>\n",
       "      <td>Positive</td>\n",
       "      <td>This book is a reissue of an old one; the auth...</td>\n",
       "      <td>AN0N05A9LIJEQ</td>\n",
       "      <td>Different...</td>\n",
       "      <td>1388966400</td>\n",
       "    </tr>\n",
       "    <tr>\n",
       "      <th>2</th>\n",
       "      <td>B000F83SZQ</td>\n",
       "      <td>Positive</td>\n",
       "      <td>This was a fairly interesting read.  It had ol...</td>\n",
       "      <td>A795DMNCJILA6</td>\n",
       "      <td>Oldie</td>\n",
       "      <td>1396569600</td>\n",
       "    </tr>\n",
       "    <tr>\n",
       "      <th>3</th>\n",
       "      <td>B000F83SZQ</td>\n",
       "      <td>Positive</td>\n",
       "      <td>I'd never read any of the Amy Brewster mysteri...</td>\n",
       "      <td>A1FV0SX13TWVXQ</td>\n",
       "      <td>I really liked it.</td>\n",
       "      <td>1392768000</td>\n",
       "    </tr>\n",
       "    <tr>\n",
       "      <th>4</th>\n",
       "      <td>B000F83SZQ</td>\n",
       "      <td>Positive</td>\n",
       "      <td>If you like period pieces - clothing, lingo, y...</td>\n",
       "      <td>A3SPTOKDG7WBLN</td>\n",
       "      <td>Period Mystery</td>\n",
       "      <td>1395187200</td>\n",
       "    </tr>\n",
       "  </tbody>\n",
       "</table>\n",
       "</div>"
      ],
      "text/plain": [
       "    ProductId     Score                                               Text  \\\n",
       "0  B000F83SZQ  Positive  I enjoy vintage books and movies so I enjoyed ...   \n",
       "1  B000F83SZQ  Positive  This book is a reissue of an old one; the auth...   \n",
       "2  B000F83SZQ  Positive  This was a fairly interesting read.  It had ol...   \n",
       "3  B000F83SZQ  Positive  I'd never read any of the Amy Brewster mysteri...   \n",
       "4  B000F83SZQ  Positive  If you like period pieces - clothing, lingo, y...   \n",
       "\n",
       "           UserId             Summary        Time  \n",
       "0  A1F6404F1VG29J  Nice vintage story  1399248000  \n",
       "1   AN0N05A9LIJEQ        Different...  1388966400  \n",
       "2   A795DMNCJILA6               Oldie  1396569600  \n",
       "3  A1FV0SX13TWVXQ  I really liked it.  1392768000  \n",
       "4  A3SPTOKDG7WBLN      Period Mystery  1395187200  "
      ]
     },
     "execution_count": 9,
     "metadata": {},
     "output_type": "execute_result"
    }
   ],
   "source": [
    "#give reviews with Score > 3 a positive rating and reviews with a score < 3 a negative rating\n",
    "def partition(x):\n",
    "    if x < 3:\n",
    "        return 'Negative'\n",
    "    else:\n",
    "        return 'Positive'\n",
    "\n",
    "actualScore = reviews_data['Score']\n",
    "pos_neg = actualScore.map(partition)\n",
    "reviews_data['Score'] = pos_neg\n",
    "\n",
    "reviews_data.head()"
   ]
  },
  {
   "cell_type": "code",
   "execution_count": 11,
   "metadata": {},
   "outputs": [],
   "source": [
    "reviews_data = reviews_data.head(50000) #considering only 50k rows"
   ]
  },
  {
   "cell_type": "code",
   "execution_count": 12,
   "metadata": {},
   "outputs": [
    {
     "data": {
      "image/png": "[encoded data removed]",
      "text/plain": [
       "<Figure size 720x432 with 1 Axes>"
      ]
     },
     "metadata": {
      "needs_background": "light"
     },
     "output_type": "display_data"
    }
   ],
   "source": [
    "category_dist = reviews_data['Score'].value_counts()\n",
    "\n",
    "plt.figure(figsize=(10,6))\n",
    "my_colors = ['g', 'r']\n",
    "category_dist.plot(kind='bar', color=my_colors)\n",
    "plt.grid()\n",
    "plt.xlabel(\"Scores\")\n",
    "plt.ylabel(\"Number of Reviews\")\n",
    "plt.title(\"Distribution of Reviews\")\n",
    "plt.show()"
   ]
  },
  {
   "cell_type": "code",
   "execution_count": 13,
   "metadata": {},
   "outputs": [
    {
     "data": {
      "text/html": [
       "<div>\n",
       "<style scoped>\n",
       "    .dataframe tbody tr th:only-of-type {\n",
       "        vertical-align: middle;\n",
       "    }\n",
       "\n",
       "    .dataframe tbody tr th {\n",
       "        vertical-align: top;\n",
       "    }\n",
       "\n",
       "    .dataframe thead th {\n",
       "        text-align: right;\n",
       "    }\n",
       "</style>\n",
       "<table border=\"1\" class=\"dataframe\">\n",
       "  <thead>\n",
       "    <tr style=\"text-align: right;\">\n",
       "      <th></th>\n",
       "      <th>ProductId</th>\n",
       "      <th>Score</th>\n",
       "      <th>Text</th>\n",
       "      <th>UserId</th>\n",
       "      <th>Summary</th>\n",
       "      <th>Time</th>\n",
       "    </tr>\n",
       "  </thead>\n",
       "  <tbody>\n",
       "    <tr>\n",
       "      <th>4</th>\n",
       "      <td>B000F83SZQ</td>\n",
       "      <td>Positive</td>\n",
       "      <td>If you like period pieces - clothing, lingo, y...</td>\n",
       "      <td>A3SPTOKDG7WBLN</td>\n",
       "      <td>Period Mystery</td>\n",
       "      <td>1395187200</td>\n",
       "    </tr>\n",
       "    <tr>\n",
       "      <th>56510</th>\n",
       "      <td>B004TPN464</td>\n",
       "      <td>Positive</td>\n",
       "      <td>The fact that these stories have not been upda...</td>\n",
       "      <td>A3SPTOKDG7WBLN</td>\n",
       "      <td>Love Penny Nichols</td>\n",
       "      <td>1366329600</td>\n",
       "    </tr>\n",
       "    <tr>\n",
       "      <th>56521</th>\n",
       "      <td>B004TPN7OI</td>\n",
       "      <td>Positive</td>\n",
       "      <td>Very sad that there were not more Penny Nichol...</td>\n",
       "      <td>A3SPTOKDG7WBLN</td>\n",
       "      <td>Penny Nichols rocks!</td>\n",
       "      <td>1366329600</td>\n",
       "    </tr>\n",
       "  </tbody>\n",
       "</table>\n",
       "</div>"
      ],
      "text/plain": [
       "        ProductId     Score  \\\n",
       "4      B000F83SZQ  Positive   \n",
       "56510  B004TPN464  Positive   \n",
       "56521  B004TPN7OI  Positive   \n",
       "\n",
       "                                                    Text          UserId  \\\n",
       "4      If you like period pieces - clothing, lingo, y...  A3SPTOKDG7WBLN   \n",
       "56510  The fact that these stories have not been upda...  A3SPTOKDG7WBLN   \n",
       "56521  Very sad that there were not more Penny Nichol...  A3SPTOKDG7WBLN   \n",
       "\n",
       "                    Summary        Time  \n",
       "4            Period Mystery  1395187200  \n",
       "56510    Love Penny Nichols  1366329600  \n",
       "56521  Penny Nichols rocks!  1366329600  "
      ]
     },
     "execution_count": 13,
     "metadata": {},
     "output_type": "execute_result"
    }
   ],
   "source": [
    "reviews_data[reviews_data['UserId']=='A3SPTOKDG7WBLN']"
   ]
  },
  {
   "cell_type": "code",
   "execution_count": 14,
   "metadata": {},
   "outputs": [],
   "source": [
    "#sorting data according to ProductId in ascending order\n",
    "reviews_data = reviews_data.sort_values('ProductId', axis=0, ascending=True, inplace=False, kind='quicksort', na_position='last')"
   ]
  },
  {
   "cell_type": "code",
   "execution_count": 15,
   "metadata": {},
   "outputs": [
    {
     "data": {
      "text/plain": [
       "(50000, 6)"
      ]
     },
     "execution_count": 15,
     "metadata": {},
     "output_type": "execute_result"
    }
   ],
   "source": [
    "#deduplication of entries\n",
    "reviews_data = reviews_data.drop_duplicates(subset={\"ProductId\",\"UserId\",\"Time\",\"Text\"}, keep='first', inplace=False)\n",
    "reviews_data.shape"
   ]
  },
  {
   "cell_type": "markdown",
   "metadata": {},
   "source": [
    "<font color=DodgerBlue><h3>Data Preprocessing</h3></font>"
   ]
  },
  {
   "cell_type": "code",
   "execution_count": 17,
   "metadata": {},
   "outputs": [],
   "source": [
    "import warnings\n",
    "warnings.filterwarnings(\"ignore\")\n",
    "from nltk.corpus import stopwords\n",
    "import nltk\n",
    "import re\n",
    "\n",
    "#loading_the_stop_words_from_nltk_library_\n",
    "stop_words = set(stopwords.words('english'))\n",
    "\n",
    "def txt_preprocessing(total_text, index, column, df):\n",
    "    if type(total_text) is not int:\n",
    "        string = \"\"\n",
    "        \n",
    "        #replace_every_special_char_with_space\n",
    "        total_text = re.sub('[^a-zA-Z0-9\\n]', ' ', total_text)\n",
    "        \n",
    "        #replace_multiple_spaces_with_single_space\n",
    "        total_text = re.sub('\\s+',' ', total_text)\n",
    "        \n",
    "        #converting_all_the_chars_into_lower_case\n",
    "        total_text = total_text.lower()\n",
    "        \n",
    "        for word in total_text.split():\n",
    "        #if_the_word_is_a_not_a_stop_word_then_retain_that_word_from_the_data\n",
    "            if not word in stop_words:\n",
    "                string += word + \" \"\n",
    "        \n",
    "        df[column][index] = string"
   ]
  },
  {
   "cell_type": "code",
   "execution_count": 18,
   "metadata": {},
   "outputs": [
    {
     "name": "stdout",
     "output_type": "stream",
     "text": [
      "THERE IS NO TEXT DESCRIPTION FOR ID : 32652\n"
     ]
    },
    {
     "data": {
      "text/html": [
       "<div>\n",
       "<style scoped>\n",
       "    .dataframe tbody tr th:only-of-type {\n",
       "        vertical-align: middle;\n",
       "    }\n",
       "\n",
       "    .dataframe tbody tr th {\n",
       "        vertical-align: top;\n",
       "    }\n",
       "\n",
       "    .dataframe thead th {\n",
       "        text-align: right;\n",
       "    }\n",
       "</style>\n",
       "<table border=\"1\" class=\"dataframe\">\n",
       "  <thead>\n",
       "    <tr style=\"text-align: right;\">\n",
       "      <th></th>\n",
       "      <th>ProductId</th>\n",
       "      <th>Score</th>\n",
       "      <th>Text</th>\n",
       "      <th>UserId</th>\n",
       "      <th>Summary</th>\n",
       "      <th>Time</th>\n",
       "    </tr>\n",
       "  </thead>\n",
       "  <tbody>\n",
       "    <tr>\n",
       "      <th>0</th>\n",
       "      <td>B000F83SZQ</td>\n",
       "      <td>Positive</td>\n",
       "      <td>enjoy vintage books movies enjoyed reading boo...</td>\n",
       "      <td>A1F6404F1VG29J</td>\n",
       "      <td>Nice vintage story</td>\n",
       "      <td>1399248000</td>\n",
       "    </tr>\n",
       "    <tr>\n",
       "      <th>1</th>\n",
       "      <td>B000F83SZQ</td>\n",
       "      <td>Positive</td>\n",
       "      <td>book reissue old one author born 1910 era say ...</td>\n",
       "      <td>AN0N05A9LIJEQ</td>\n",
       "      <td>Different...</td>\n",
       "      <td>1388966400</td>\n",
       "    </tr>\n",
       "    <tr>\n",
       "      <th>2</th>\n",
       "      <td>B000F83SZQ</td>\n",
       "      <td>Positive</td>\n",
       "      <td>fairly interesting read old style terminology ...</td>\n",
       "      <td>A795DMNCJILA6</td>\n",
       "      <td>Oldie</td>\n",
       "      <td>1396569600</td>\n",
       "    </tr>\n",
       "    <tr>\n",
       "      <th>3</th>\n",
       "      <td>B000F83SZQ</td>\n",
       "      <td>Positive</td>\n",
       "      <td>never read amy brewster mysteries one really h...</td>\n",
       "      <td>A1FV0SX13TWVXQ</td>\n",
       "      <td>I really liked it.</td>\n",
       "      <td>1392768000</td>\n",
       "    </tr>\n",
       "    <tr>\n",
       "      <th>4</th>\n",
       "      <td>B000F83SZQ</td>\n",
       "      <td>Positive</td>\n",
       "      <td>like period pieces clothing lingo enjoy myster...</td>\n",
       "      <td>A3SPTOKDG7WBLN</td>\n",
       "      <td>Period Mystery</td>\n",
       "      <td>1395187200</td>\n",
       "    </tr>\n",
       "  </tbody>\n",
       "</table>\n",
       "</div>"
      ],
      "text/plain": [
       "    ProductId     Score                                               Text  \\\n",
       "0  B000F83SZQ  Positive  enjoy vintage books movies enjoyed reading boo...   \n",
       "1  B000F83SZQ  Positive  book reissue old one author born 1910 era say ...   \n",
       "2  B000F83SZQ  Positive  fairly interesting read old style terminology ...   \n",
       "3  B000F83SZQ  Positive  never read amy brewster mysteries one really h...   \n",
       "4  B000F83SZQ  Positive  like period pieces clothing lingo enjoy myster...   \n",
       "\n",
       "           UserId             Summary        Time  \n",
       "0  A1F6404F1VG29J  Nice vintage story  1399248000  \n",
       "1   AN0N05A9LIJEQ        Different...  1388966400  \n",
       "2   A795DMNCJILA6               Oldie  1396569600  \n",
       "3  A1FV0SX13TWVXQ  I really liked it.  1392768000  \n",
       "4  A3SPTOKDG7WBLN      Period Mystery  1395187200  "
      ]
     },
     "execution_count": 18,
     "metadata": {},
     "output_type": "execute_result"
    }
   ],
   "source": [
    "for index, row in reviews_data.iterrows():\n",
    "    if type(row['Text']) is str:\n",
    "        txt_preprocessing(row['Text'], index, 'Text', reviews_data)\n",
    "    else:\n",
    "        print(\"THERE IS NO TEXT DESCRIPTION FOR ID :\",index)\n",
    "\n",
    "reviews_data.head()"
   ]
  },
  {
   "cell_type": "code",
   "execution_count": 19,
   "metadata": {},
   "outputs": [
    {
     "data": {
      "text/plain": [
       "ProductId    0\n",
       "Score        0\n",
       "Text         1\n",
       "UserId       0\n",
       "Summary      0\n",
       "Time         0\n",
       "dtype: int64"
      ]
     },
     "execution_count": 19,
     "metadata": {},
     "output_type": "execute_result"
    }
   ],
   "source": [
    "#checking null values\n",
    "reviews_data.isna().sum()"
   ]
  },
  {
   "cell_type": "code",
   "execution_count": 20,
   "metadata": {},
   "outputs": [
    {
     "data": {
      "text/plain": [
       "ProductId    0\n",
       "Score        0\n",
       "Text         0\n",
       "UserId       0\n",
       "Summary      0\n",
       "Time         0\n",
       "dtype: int64"
      ]
     },
     "execution_count": 20,
     "metadata": {},
     "output_type": "execute_result"
    }
   ],
   "source": [
    "#removing null values(row)\n",
    "reviews_data.dropna(axis=0, inplace=True)\n",
    "reviews_data.isna().sum()"
   ]
  },
  {
   "cell_type": "code",
   "execution_count": 21,
   "metadata": {},
   "outputs": [
    {
     "data": {
      "text/plain": [
       "(49999, 6)"
      ]
     },
     "execution_count": 21,
     "metadata": {},
     "output_type": "execute_result"
    }
   ],
   "source": [
    "reviews_data.shape"
   ]
  },
  {
   "cell_type": "code",
   "execution_count": 22,
   "metadata": {},
   "outputs": [
    {
     "data": {
      "text/html": [
       "<div>\n",
       "<style scoped>\n",
       "    .dataframe tbody tr th:only-of-type {\n",
       "        vertical-align: middle;\n",
       "    }\n",
       "\n",
       "    .dataframe tbody tr th {\n",
       "        vertical-align: top;\n",
       "    }\n",
       "\n",
       "    .dataframe thead th {\n",
       "        text-align: right;\n",
       "    }\n",
       "</style>\n",
       "<table border=\"1\" class=\"dataframe\">\n",
       "  <thead>\n",
       "    <tr style=\"text-align: right;\">\n",
       "      <th></th>\n",
       "      <th>ProductId</th>\n",
       "      <th>Score</th>\n",
       "      <th>Text</th>\n",
       "      <th>UserId</th>\n",
       "      <th>Summary</th>\n",
       "      <th>Time</th>\n",
       "    </tr>\n",
       "  </thead>\n",
       "  <tbody>\n",
       "    <tr>\n",
       "      <th>58089</th>\n",
       "      <td>B004U362DC</td>\n",
       "      <td>Positive</td>\n",
       "      <td>holy cow g r e book told well first page freak...</td>\n",
       "      <td>AQUK5N7UTVB4P</td>\n",
       "      <td>WHATS  GOING ON TODAY, SO REAL!</td>\n",
       "      <td>1381795200</td>\n",
       "    </tr>\n",
       "    <tr>\n",
       "      <th>58090</th>\n",
       "      <td>B004U362DC</td>\n",
       "      <td>Negative</td>\n",
       "      <td>dont understand glowing reviews see lot melodr...</td>\n",
       "      <td>A388UWSU8IPAWP</td>\n",
       "      <td>nah</td>\n",
       "      <td>1367539200</td>\n",
       "    </tr>\n",
       "    <tr>\n",
       "      <th>58091</th>\n",
       "      <td>B004U362DC</td>\n",
       "      <td>Positive</td>\n",
       "      <td>book kept interest beginning end well written ...</td>\n",
       "      <td>AWCK8U7SZG25L</td>\n",
       "      <td>Very Good Book</td>\n",
       "      <td>1392940800</td>\n",
       "    </tr>\n",
       "    <tr>\n",
       "      <th>58079</th>\n",
       "      <td>B004U362DC</td>\n",
       "      <td>Positive</td>\n",
       "      <td>nailed joseph flynn gripping tale takes place ...</td>\n",
       "      <td>A25OUHLNKLMDD9</td>\n",
       "      <td>Gripping Mystery</td>\n",
       "      <td>1347840000</td>\n",
       "    </tr>\n",
       "    <tr>\n",
       "      <th>58123</th>\n",
       "      <td>B004U362DC</td>\n",
       "      <td>Positive</td>\n",
       "      <td>flynn nailed one elements one wants genre stor...</td>\n",
       "      <td>A2OU6CFXCGROP7</td>\n",
       "      <td>Excellent</td>\n",
       "      <td>1380240000</td>\n",
       "    </tr>\n",
       "  </tbody>\n",
       "</table>\n",
       "</div>"
      ],
      "text/plain": [
       "        ProductId     Score  \\\n",
       "58089  B004U362DC  Positive   \n",
       "58090  B004U362DC  Negative   \n",
       "58091  B004U362DC  Positive   \n",
       "58079  B004U362DC  Positive   \n",
       "58123  B004U362DC  Positive   \n",
       "\n",
       "                                                    Text          UserId  \\\n",
       "58089  holy cow g r e book told well first page freak...   AQUK5N7UTVB4P   \n",
       "58090  dont understand glowing reviews see lot melodr...  A388UWSU8IPAWP   \n",
       "58091  book kept interest beginning end well written ...   AWCK8U7SZG25L   \n",
       "58079  nailed joseph flynn gripping tale takes place ...  A25OUHLNKLMDD9   \n",
       "58123  flynn nailed one elements one wants genre stor...  A2OU6CFXCGROP7   \n",
       "\n",
       "                               Summary        Time  \n",
       "58089  WHATS  GOING ON TODAY, SO REAL!  1381795200  \n",
       "58090                              nah  1367539200  \n",
       "58091                   Very Good Book  1392940800  \n",
       "58079                 Gripping Mystery  1347840000  \n",
       "58123                        Excellent  1380240000  "
      ]
     },
     "execution_count": 22,
     "metadata": {},
     "output_type": "execute_result"
    }
   ],
   "source": [
    "reviews_data.tail()"
   ]
  },
  {
   "cell_type": "code",
   "execution_count": 23,
   "metadata": {},
   "outputs": [
    {
     "data": {
      "text/plain": [
       "Positive    44381\n",
       "Negative     5618\n",
       "Name: Score, dtype: int64"
      ]
     },
     "execution_count": 23,
     "metadata": {},
     "output_type": "execute_result"
    }
   ],
   "source": [
    "reviews_data['Score'].value_counts()"
   ]
  },
  {
   "cell_type": "markdown",
   "metadata": {},
   "source": [
    "- <p style=\"font-size:15px\">It has been observed that our target class has an imbalance. So, we’ll try to upsample the data so that the minority class matches with the majority class.</p>\n",
    "\n",
    "\n",
    "- <p style=\"font-size:15px\">**Imbalanced Data** refers to those types of datasets where the target class has an uneven distribution of observations, i.e **one class label has a very high number of observations** and the **other has a very low number of observations**.</p>"
   ]
  },
  {
   "cell_type": "code",
   "execution_count": 24,
   "metadata": {},
   "outputs": [],
   "source": [
    "#ref: https://www.analyticsvidhya.com/blog/2021/06/5-techniques-to-handle-imbalanced-data-for-a-classification-problem/\n",
    "from sklearn.utils import resample\n",
    "\n",
    "#create two different dataframe of majority and minority class \n",
    "\n",
    "cls_majority = reviews_data[(reviews_data['Score']=='Positive')] \n",
    "cls_minority = reviews_data[(reviews_data['Score']=='Negative')] \n",
    "\n",
    "# upsample minority class\n",
    "cls_minority_upsampled = resample(cls_minority, \n",
    "                                 replace=True,    #sample with replacement\n",
    "                                 n_samples= 44381, #to match majority class\n",
    "                                 random_state=42)  #reproducible results\n",
    "# Combine majority class with upsampled minority class\n",
    "upsampled_data = pd.concat([cls_minority_upsampled, cls_majority])"
   ]
  },
  {
   "cell_type": "code",
   "execution_count": 25,
   "metadata": {},
   "outputs": [
    {
     "data": {
      "text/html": [
       "<div>\n",
       "<style scoped>\n",
       "    .dataframe tbody tr th:only-of-type {\n",
       "        vertical-align: middle;\n",
       "    }\n",
       "\n",
       "    .dataframe tbody tr th {\n",
       "        vertical-align: top;\n",
       "    }\n",
       "\n",
       "    .dataframe thead th {\n",
       "        text-align: right;\n",
       "    }\n",
       "</style>\n",
       "<table border=\"1\" class=\"dataframe\">\n",
       "  <thead>\n",
       "    <tr style=\"text-align: right;\">\n",
       "      <th></th>\n",
       "      <th>ProductId</th>\n",
       "      <th>Score</th>\n",
       "      <th>Text</th>\n",
       "      <th>UserId</th>\n",
       "      <th>Summary</th>\n",
       "      <th>Time</th>\n",
       "    </tr>\n",
       "  </thead>\n",
       "  <tbody>\n",
       "    <tr>\n",
       "      <th>8745</th>\n",
       "      <td>B002Y26QWS</td>\n",
       "      <td>Negative</td>\n",
       "      <td>started great promise found died soon found pr...</td>\n",
       "      <td>A1ZTIIU0V1KTFC</td>\n",
       "      <td>Had potential...</td>\n",
       "      <td>1325635200</td>\n",
       "    </tr>\n",
       "    <tr>\n",
       "      <th>55393</th>\n",
       "      <td>B004TBDB48</td>\n",
       "      <td>Negative</td>\n",
       "      <td>enjoy brett battles books like carlos feel lik...</td>\n",
       "      <td>AMZWHFSIZCI2W</td>\n",
       "      <td>Rip Off - sort of...</td>\n",
       "      <td>1307836800</td>\n",
       "    </tr>\n",
       "    <tr>\n",
       "      <th>53762</th>\n",
       "      <td>B004SBMK5U</td>\n",
       "      <td>Negative</td>\n",
       "      <td>kind book endless writing ofdiana charles wedd...</td>\n",
       "      <td>A29QBZJ00B5N2I</td>\n",
       "      <td>Kate's Wedding</td>\n",
       "      <td>1403222400</td>\n",
       "    </tr>\n",
       "    <tr>\n",
       "      <th>53357</th>\n",
       "      <td>B004S7F2VS</td>\n",
       "      <td>Negative</td>\n",
       "      <td>book makes sense understand jokes ones underst...</td>\n",
       "      <td>A2E9FE9O7CVB7G</td>\n",
       "      <td>Nonsense</td>\n",
       "      <td>1381104000</td>\n",
       "    </tr>\n",
       "    <tr>\n",
       "      <th>37946</th>\n",
       "      <td>B004G5Z48S</td>\n",
       "      <td>Negative</td>\n",
       "      <td>bought mercy included excerpt book excerpt sou...</td>\n",
       "      <td>A3N9N0P5B3BK7B</td>\n",
       "      <td>Short Story/Novella</td>\n",
       "      <td>1293840000</td>\n",
       "    </tr>\n",
       "  </tbody>\n",
       "</table>\n",
       "</div>"
      ],
      "text/plain": [
       "        ProductId     Score  \\\n",
       "8745   B002Y26QWS  Negative   \n",
       "55393  B004TBDB48  Negative   \n",
       "53762  B004SBMK5U  Negative   \n",
       "53357  B004S7F2VS  Negative   \n",
       "37946  B004G5Z48S  Negative   \n",
       "\n",
       "                                                    Text          UserId  \\\n",
       "8745   started great promise found died soon found pr...  A1ZTIIU0V1KTFC   \n",
       "55393  enjoy brett battles books like carlos feel lik...   AMZWHFSIZCI2W   \n",
       "53762  kind book endless writing ofdiana charles wedd...  A29QBZJ00B5N2I   \n",
       "53357  book makes sense understand jokes ones underst...  A2E9FE9O7CVB7G   \n",
       "37946  bought mercy included excerpt book excerpt sou...  A3N9N0P5B3BK7B   \n",
       "\n",
       "                    Summary        Time  \n",
       "8745       Had potential...  1325635200  \n",
       "55393  Rip Off - sort of...  1307836800  \n",
       "53762        Kate's Wedding  1403222400  \n",
       "53357              Nonsense  1381104000  \n",
       "37946   Short Story/Novella  1293840000  "
      ]
     },
     "execution_count": 25,
     "metadata": {},
     "output_type": "execute_result"
    }
   ],
   "source": [
    "upsampled_data.head()"
   ]
  },
  {
   "cell_type": "code",
   "execution_count": 26,
   "metadata": {},
   "outputs": [
    {
     "data": {
      "text/plain": [
       "(88762, 6)"
      ]
     },
     "execution_count": 26,
     "metadata": {},
     "output_type": "execute_result"
    }
   ],
   "source": [
    "upsampled_data.shape"
   ]
  },
  {
   "cell_type": "code",
   "execution_count": 27,
   "metadata": {},
   "outputs": [
    {
     "data": {
      "text/plain": [
       "Negative    44381\n",
       "Positive    44381\n",
       "Name: Score, dtype: int64"
      ]
     },
     "execution_count": 27,
     "metadata": {},
     "output_type": "execute_result"
    }
   ],
   "source": [
    "upsampled_data['Score'].value_counts()"
   ]
  },
  {
   "cell_type": "code",
   "execution_count": 28,
   "metadata": {},
   "outputs": [
    {
     "data": {
      "text/html": [
       "<div>\n",
       "<style scoped>\n",
       "    .dataframe tbody tr th:only-of-type {\n",
       "        vertical-align: middle;\n",
       "    }\n",
       "\n",
       "    .dataframe tbody tr th {\n",
       "        vertical-align: top;\n",
       "    }\n",
       "\n",
       "    .dataframe thead th {\n",
       "        text-align: right;\n",
       "    }\n",
       "</style>\n",
       "<table border=\"1\" class=\"dataframe\">\n",
       "  <thead>\n",
       "    <tr style=\"text-align: right;\">\n",
       "      <th></th>\n",
       "      <th>ProductId</th>\n",
       "      <th>Score</th>\n",
       "      <th>Text</th>\n",
       "      <th>UserId</th>\n",
       "      <th>Summary</th>\n",
       "      <th>Time</th>\n",
       "    </tr>\n",
       "  </thead>\n",
       "  <tbody>\n",
       "    <tr>\n",
       "      <th>8745</th>\n",
       "      <td>B002Y26QWS</td>\n",
       "      <td>Negative</td>\n",
       "      <td>started great promise found died soon found pr...</td>\n",
       "      <td>A1ZTIIU0V1KTFC</td>\n",
       "      <td>Had potential...</td>\n",
       "      <td>1325635200</td>\n",
       "    </tr>\n",
       "    <tr>\n",
       "      <th>13449</th>\n",
       "      <td>B0038KX8S0</td>\n",
       "      <td>Negative</td>\n",
       "      <td>liked premise even like ended lost track many ...</td>\n",
       "      <td>A1ZTIIU0V1KTFC</td>\n",
       "      <td>Cute story but poor writing style</td>\n",
       "      <td>1396742400</td>\n",
       "    </tr>\n",
       "    <tr>\n",
       "      <th>13449</th>\n",
       "      <td>B0038KX8S0</td>\n",
       "      <td>Negative</td>\n",
       "      <td>liked premise even like ended lost track many ...</td>\n",
       "      <td>A1ZTIIU0V1KTFC</td>\n",
       "      <td>Cute story but poor writing style</td>\n",
       "      <td>1396742400</td>\n",
       "    </tr>\n",
       "    <tr>\n",
       "      <th>13449</th>\n",
       "      <td>B0038KX8S0</td>\n",
       "      <td>Negative</td>\n",
       "      <td>liked premise even like ended lost track many ...</td>\n",
       "      <td>A1ZTIIU0V1KTFC</td>\n",
       "      <td>Cute story but poor writing style</td>\n",
       "      <td>1396742400</td>\n",
       "    </tr>\n",
       "    <tr>\n",
       "      <th>13449</th>\n",
       "      <td>B0038KX8S0</td>\n",
       "      <td>Negative</td>\n",
       "      <td>liked premise even like ended lost track many ...</td>\n",
       "      <td>A1ZTIIU0V1KTFC</td>\n",
       "      <td>Cute story but poor writing style</td>\n",
       "      <td>1396742400</td>\n",
       "    </tr>\n",
       "    <tr>\n",
       "      <th>8745</th>\n",
       "      <td>B002Y26QWS</td>\n",
       "      <td>Negative</td>\n",
       "      <td>started great promise found died soon found pr...</td>\n",
       "      <td>A1ZTIIU0V1KTFC</td>\n",
       "      <td>Had potential...</td>\n",
       "      <td>1325635200</td>\n",
       "    </tr>\n",
       "    <tr>\n",
       "      <th>8745</th>\n",
       "      <td>B002Y26QWS</td>\n",
       "      <td>Negative</td>\n",
       "      <td>started great promise found died soon found pr...</td>\n",
       "      <td>A1ZTIIU0V1KTFC</td>\n",
       "      <td>Had potential...</td>\n",
       "      <td>1325635200</td>\n",
       "    </tr>\n",
       "    <tr>\n",
       "      <th>8745</th>\n",
       "      <td>B002Y26QWS</td>\n",
       "      <td>Negative</td>\n",
       "      <td>started great promise found died soon found pr...</td>\n",
       "      <td>A1ZTIIU0V1KTFC</td>\n",
       "      <td>Had potential...</td>\n",
       "      <td>1325635200</td>\n",
       "    </tr>\n",
       "    <tr>\n",
       "      <th>8745</th>\n",
       "      <td>B002Y26QWS</td>\n",
       "      <td>Negative</td>\n",
       "      <td>started great promise found died soon found pr...</td>\n",
       "      <td>A1ZTIIU0V1KTFC</td>\n",
       "      <td>Had potential...</td>\n",
       "      <td>1325635200</td>\n",
       "    </tr>\n",
       "    <tr>\n",
       "      <th>8745</th>\n",
       "      <td>B002Y26QWS</td>\n",
       "      <td>Negative</td>\n",
       "      <td>started great promise found died soon found pr...</td>\n",
       "      <td>A1ZTIIU0V1KTFC</td>\n",
       "      <td>Had potential...</td>\n",
       "      <td>1325635200</td>\n",
       "    </tr>\n",
       "    <tr>\n",
       "      <th>8745</th>\n",
       "      <td>B002Y26QWS</td>\n",
       "      <td>Negative</td>\n",
       "      <td>started great promise found died soon found pr...</td>\n",
       "      <td>A1ZTIIU0V1KTFC</td>\n",
       "      <td>Had potential...</td>\n",
       "      <td>1325635200</td>\n",
       "    </tr>\n",
       "    <tr>\n",
       "      <th>8745</th>\n",
       "      <td>B002Y26QWS</td>\n",
       "      <td>Negative</td>\n",
       "      <td>started great promise found died soon found pr...</td>\n",
       "      <td>A1ZTIIU0V1KTFC</td>\n",
       "      <td>Had potential...</td>\n",
       "      <td>1325635200</td>\n",
       "    </tr>\n",
       "    <tr>\n",
       "      <th>8745</th>\n",
       "      <td>B002Y26QWS</td>\n",
       "      <td>Negative</td>\n",
       "      <td>started great promise found died soon found pr...</td>\n",
       "      <td>A1ZTIIU0V1KTFC</td>\n",
       "      <td>Had potential...</td>\n",
       "      <td>1325635200</td>\n",
       "    </tr>\n",
       "    <tr>\n",
       "      <th>8745</th>\n",
       "      <td>B002Y26QWS</td>\n",
       "      <td>Negative</td>\n",
       "      <td>started great promise found died soon found pr...</td>\n",
       "      <td>A1ZTIIU0V1KTFC</td>\n",
       "      <td>Had potential...</td>\n",
       "      <td>1325635200</td>\n",
       "    </tr>\n",
       "    <tr>\n",
       "      <th>13449</th>\n",
       "      <td>B0038KX8S0</td>\n",
       "      <td>Negative</td>\n",
       "      <td>liked premise even like ended lost track many ...</td>\n",
       "      <td>A1ZTIIU0V1KTFC</td>\n",
       "      <td>Cute story but poor writing style</td>\n",
       "      <td>1396742400</td>\n",
       "    </tr>\n",
       "    <tr>\n",
       "      <th>8745</th>\n",
       "      <td>B002Y26QWS</td>\n",
       "      <td>Negative</td>\n",
       "      <td>started great promise found died soon found pr...</td>\n",
       "      <td>A1ZTIIU0V1KTFC</td>\n",
       "      <td>Had potential...</td>\n",
       "      <td>1325635200</td>\n",
       "    </tr>\n",
       "    <tr>\n",
       "      <th>222</th>\n",
       "      <td>B000JMLBHU</td>\n",
       "      <td>Positive</td>\n",
       "      <td>go wrong jules verne scenes graphic accurate w...</td>\n",
       "      <td>A1ZTIIU0V1KTFC</td>\n",
       "      <td>Jules Verne at his finest</td>\n",
       "      <td>1398643200</td>\n",
       "    </tr>\n",
       "    <tr>\n",
       "      <th>20718</th>\n",
       "      <td>B003TZLLEW</td>\n",
       "      <td>Positive</td>\n",
       "      <td>really enjoyed bit team america give five star...</td>\n",
       "      <td>A1ZTIIU0V1KTFC</td>\n",
       "      <td>Yay Team America!</td>\n",
       "      <td>1331164800</td>\n",
       "    </tr>\n",
       "    <tr>\n",
       "      <th>36673</th>\n",
       "      <td>B004EEPNNC</td>\n",
       "      <td>Positive</td>\n",
       "      <td>really like quick development characters inten...</td>\n",
       "      <td>A1ZTIIU0V1KTFC</td>\n",
       "      <td>A good, albeit short, read!</td>\n",
       "      <td>1398988800</td>\n",
       "    </tr>\n",
       "  </tbody>\n",
       "</table>\n",
       "</div>"
      ],
      "text/plain": [
       "        ProductId     Score  \\\n",
       "8745   B002Y26QWS  Negative   \n",
       "13449  B0038KX8S0  Negative   \n",
       "13449  B0038KX8S0  Negative   \n",
       "13449  B0038KX8S0  Negative   \n",
       "13449  B0038KX8S0  Negative   \n",
       "8745   B002Y26QWS  Negative   \n",
       "8745   B002Y26QWS  Negative   \n",
       "8745   B002Y26QWS  Negative   \n",
       "8745   B002Y26QWS  Negative   \n",
       "8745   B002Y26QWS  Negative   \n",
       "8745   B002Y26QWS  Negative   \n",
       "8745   B002Y26QWS  Negative   \n",
       "8745   B002Y26QWS  Negative   \n",
       "8745   B002Y26QWS  Negative   \n",
       "13449  B0038KX8S0  Negative   \n",
       "8745   B002Y26QWS  Negative   \n",
       "222    B000JMLBHU  Positive   \n",
       "20718  B003TZLLEW  Positive   \n",
       "36673  B004EEPNNC  Positive   \n",
       "\n",
       "                                                    Text          UserId  \\\n",
       "8745   started great promise found died soon found pr...  A1ZTIIU0V1KTFC   \n",
       "13449  liked premise even like ended lost track many ...  A1ZTIIU0V1KTFC   \n",
       "13449  liked premise even like ended lost track many ...  A1ZTIIU0V1KTFC   \n",
       "13449  liked premise even like ended lost track many ...  A1ZTIIU0V1KTFC   \n",
       "13449  liked premise even like ended lost track many ...  A1ZTIIU0V1KTFC   \n",
       "8745   started great promise found died soon found pr...  A1ZTIIU0V1KTFC   \n",
       "8745   started great promise found died soon found pr...  A1ZTIIU0V1KTFC   \n",
       "8745   started great promise found died soon found pr...  A1ZTIIU0V1KTFC   \n",
       "8745   started great promise found died soon found pr...  A1ZTIIU0V1KTFC   \n",
       "8745   started great promise found died soon found pr...  A1ZTIIU0V1KTFC   \n",
       "8745   started great promise found died soon found pr...  A1ZTIIU0V1KTFC   \n",
       "8745   started great promise found died soon found pr...  A1ZTIIU0V1KTFC   \n",
       "8745   started great promise found died soon found pr...  A1ZTIIU0V1KTFC   \n",
       "8745   started great promise found died soon found pr...  A1ZTIIU0V1KTFC   \n",
       "13449  liked premise even like ended lost track many ...  A1ZTIIU0V1KTFC   \n",
       "8745   started great promise found died soon found pr...  A1ZTIIU0V1KTFC   \n",
       "222    go wrong jules verne scenes graphic accurate w...  A1ZTIIU0V1KTFC   \n",
       "20718  really enjoyed bit team america give five star...  A1ZTIIU0V1KTFC   \n",
       "36673  really like quick development characters inten...  A1ZTIIU0V1KTFC   \n",
       "\n",
       "                                 Summary        Time  \n",
       "8745                    Had potential...  1325635200  \n",
       "13449  Cute story but poor writing style  1396742400  \n",
       "13449  Cute story but poor writing style  1396742400  \n",
       "13449  Cute story but poor writing style  1396742400  \n",
       "13449  Cute story but poor writing style  1396742400  \n",
       "8745                    Had potential...  1325635200  \n",
       "8745                    Had potential...  1325635200  \n",
       "8745                    Had potential...  1325635200  \n",
       "8745                    Had potential...  1325635200  \n",
       "8745                    Had potential...  1325635200  \n",
       "8745                    Had potential...  1325635200  \n",
       "8745                    Had potential...  1325635200  \n",
       "8745                    Had potential...  1325635200  \n",
       "8745                    Had potential...  1325635200  \n",
       "13449  Cute story but poor writing style  1396742400  \n",
       "8745                    Had potential...  1325635200  \n",
       "222            Jules Verne at his finest  1398643200  \n",
       "20718                  Yay Team America!  1331164800  \n",
       "36673        A good, albeit short, read!  1398988800  "
      ]
     },
     "execution_count": 28,
     "metadata": {},
     "output_type": "execute_result"
    }
   ],
   "source": [
    "upsampled_data[upsampled_data['UserId']=='A1ZTIIU0V1KTFC']"
   ]
  },
  {
   "cell_type": "markdown",
   "metadata": {},
   "source": [
    "<h3><font color=DodgerBlue>Train Test Split</font></h3>"
   ]
  },
  {
   "cell_type": "code",
   "execution_count": 29,
   "metadata": {},
   "outputs": [],
   "source": [
    "from sklearn.model_selection import train_test_split\n",
    "X = upsampled_data['Text']\n",
    "Y = upsampled_data['Score']\n",
    "\n",
    "X_train, X_test, y_train, y_test = train_test_split(X, Y, test_size=0.20, stratify=Y, random_state=0)\n",
    "X_train, X_cv, y_train, y_cv = train_test_split(X_train, y_train, test_size=0.20, stratify=y_train, random_state=0)"
   ]
  },
  {
   "cell_type": "code",
   "execution_count": 30,
   "metadata": {},
   "outputs": [
    {
     "name": "stdout",
     "output_type": "stream",
     "text": [
      "NUMBER OF DATA POINTS IN TRAIN DATA : 56807\n",
      "NUMBER OF DATA POINTS IN CROSS VALIDATION DATA : 14202\n",
      "NUMBER OF DATA POINTS IN TEST DATA : 17753\n"
     ]
    }
   ],
   "source": [
    "print(\"NUMBER OF DATA POINTS IN TRAIN DATA :\", X_train.shape[0])\n",
    "print(\"NUMBER OF DATA POINTS IN CROSS VALIDATION DATA :\", X_cv.shape[0])\n",
    "print(\"NUMBER OF DATA POINTS IN TEST DATA :\", X_test.shape[0])"
   ]
  },
  {
   "cell_type": "code",
   "execution_count": 31,
   "metadata": {},
   "outputs": [
    {
     "data": {
      "text/plain": [
       "Positive    28404\n",
       "Negative    28403\n",
       "Name: Score, dtype: int64"
      ]
     },
     "execution_count": 31,
     "metadata": {},
     "output_type": "execute_result"
    }
   ],
   "source": [
    "y_train.value_counts()"
   ]
  },
  {
   "cell_type": "code",
   "execution_count": 32,
   "metadata": {},
   "outputs": [
    {
     "data": {
      "text/plain": [
       "Positive    7101\n",
       "Negative    7101\n",
       "Name: Score, dtype: int64"
      ]
     },
     "execution_count": 32,
     "metadata": {},
     "output_type": "execute_result"
    }
   ],
   "source": [
    "y_cv.value_counts()"
   ]
  },
  {
   "cell_type": "code",
   "execution_count": 33,
   "metadata": {},
   "outputs": [
    {
     "data": {
      "text/plain": [
       "Negative    8877\n",
       "Positive    8876\n",
       "Name: Score, dtype: int64"
      ]
     },
     "execution_count": 33,
     "metadata": {},
     "output_type": "execute_result"
    }
   ],
   "source": [
    "y_test.value_counts()"
   ]
  },
  {
   "cell_type": "markdown",
   "metadata": {},
   "source": [
    "<h3><font color=DodgerBlue>TF-IDF</font></h3>"
   ]
  },
  {
   "cell_type": "code",
   "execution_count": 34,
   "metadata": {},
   "outputs": [
    {
     "name": "stdout",
     "output_type": "stream",
     "text": [
      "Shape of Matrix - TFIDF\n",
      "(56807, 5000)\n",
      "(17753, 5000)\n",
      "(14202, 5000)\n"
     ]
    }
   ],
   "source": [
    "#perform_tfidf_vectorization_of_text_data\n",
    "from sklearn.feature_extraction.text import TfidfVectorizer\n",
    "\n",
    "text_vec = TfidfVectorizer(min_df=10, max_features=5000)\n",
    "text_vec.fit(X_train.values)\n",
    "\n",
    "train_text = text_vec.transform(X_train.values)\n",
    "test_text = text_vec.transform(X_test.values)\n",
    "cv_text = text_vec.transform(X_cv.values)\n",
    "\n",
    "print(\"Shape of Matrix - TFIDF\")\n",
    "print(train_text.shape)\n",
    "print(test_text.shape)\n",
    "print(cv_text.shape)"
   ]
  },
  {
   "cell_type": "markdown",
   "metadata": {},
   "source": [
    "<h3><font color=DodgerBlue>Confusion / Precision / Recall Matrix</font></h3>"
   ]
  },
  {
   "cell_type": "code",
   "execution_count": 35,
   "metadata": {},
   "outputs": [],
   "source": [
    "#this_function_plots_the_confusion_matrices_given_y_i_and_y_i_hat_\n",
    "from sklearn.metrics import confusion_matrix\n",
    "import seaborn as sns\n",
    "def plot_confusion_matrix(test_y, predict_y):\n",
    "\n",
    "    C = confusion_matrix(test_y, predict_y) #confusion_mat\n",
    "    A =(((C.T)/(C.sum(axis=1))).T) #recall_mat\n",
    "    B =(C/C.sum(axis=0)) #precision_mat\n",
    "    \n",
    "    labels = [0,1]\n",
    "    \n",
    "    #representing_C_in_heatmap_format\n",
    "    print(\"-\"*40, \"Confusion Matrix\", \"-\"*40)\n",
    "    plt.figure(figsize=(8,5))\n",
    "    sns.heatmap(C, annot=True, cmap=\"YlGnBu\", fmt=\".3f\", xticklabels=labels, yticklabels=labels)\n",
    "    plt.xlabel('Predicted Class')\n",
    "    plt.ylabel('Original Class')\n",
    "    plt.show()\n",
    "    \n",
    "    #representing_B_in_heatmap_format\n",
    "    print(\"-\"*40, \"Precision Matrix (Columm Sum=1)\", \"-\"*40)\n",
    "    plt.figure(figsize=(8,5))\n",
    "    sns.heatmap(B, annot=True, cmap=\"YlGnBu\", fmt=\".3f\", xticklabels=labels, yticklabels=labels)\n",
    "    plt.xlabel('Predicted Class')\n",
    "    plt.ylabel('Original Class')\n",
    "    plt.show()\n",
    "    \n",
    "    #representing_A_in_heatmap_format\n",
    "    print(\"-\"*40, \"Recall Matrix (Row Sum=1)\", \"-\"*40)\n",
    "    plt.figure(figsize=(8,5))\n",
    "    sns.heatmap(A, annot=True, cmap=\"YlGnBu\", fmt=\".3f\", xticklabels=labels, yticklabels=labels)\n",
    "    plt.xlabel('Predicted Class')\n",
    "    plt.ylabel('Original Class')\n",
    "    plt.show()"
   ]
  },
  {
   "cell_type": "markdown",
   "metadata": {},
   "source": [
    "<h3><font color=orange>Logistic Regression Model</font></h3>"
   ]
  },
  {
   "cell_type": "code",
   "execution_count": 36,
   "metadata": {},
   "outputs": [
    {
     "name": "stdout",
     "output_type": "stream",
     "text": [
      "For Values of Alpha = 1e-05 The Log Loss is: 0.1874222604802398\n",
      "For Values of Alpha = 0.0001 The Log Loss is: 0.2396231679883272\n",
      "For Values of Alpha = 0.001 The Log Loss is: 0.30646382889946\n",
      "For Values of Alpha = 0.01 The Log Loss is: 0.34685114009583273\n",
      "For Values of Alpha = 0.1 The Log Loss is: 0.3557359787915067\n",
      "For Values of Alpha = 1 The Log Loss is: 0.35500719101668593\n"
     ]
    },
    {
     "data": {
      "image/png": "[encoded data removed]",
      "text/plain": [
       "<Figure size 432x288 with 1 Axes>"
      ]
     },
     "metadata": {
      "needs_background": "light"
     },
     "output_type": "display_data"
    },
    {
     "name": "stdout",
     "output_type": "stream",
     "text": [
      "For Values of Best Alpha = 1e-05 The Train Log Loss is: 0.15253560593949955\n",
      "For Values of Best Alpha = 1e-05 The Test Log Loss is: 0.18438127714047778\n",
      "For Values of Best Alpha = 1e-05 The Cross Validation Log Loss is: 0.1874222604802398\n"
     ]
    }
   ],
   "source": [
    "#train a logistic regression + calibration model using text features which are tfidf encoded\n",
    "from sklearn.linear_model import SGDClassifier\n",
    "from sklearn.calibration import CalibratedClassifierCV\n",
    "from sklearn.linear_model import LogisticRegression\n",
    "from sklearn.metrics import log_loss\n",
    "\n",
    "alpha = [10 ** x for x in range(-5, 1)]\n",
    "\n",
    "cv_log_error_array=[]\n",
    "for i in alpha:\n",
    "    clf = SGDClassifier(alpha=i, penalty='l2', loss='log', random_state=42)\n",
    "    clf.fit(train_text, y_train)\n",
    "    \n",
    "    sig_clf = CalibratedClassifierCV(clf, method=\"sigmoid\")\n",
    "    sig_clf.fit(train_text, y_train)\n",
    "    \n",
    "    predict_y = sig_clf.predict_proba(cv_text)\n",
    "    cv_log_error_array.append(log_loss(y_cv, predict_y, labels=clf.classes_, eps=1e-15))\n",
    "    \n",
    "    print('For Values of Alpha =',i,\"The Log Loss is:\",log_loss(y_cv, predict_y, labels=clf.classes_, eps=1e-15))\n",
    "\n",
    "fig, ax = plt.subplots()\n",
    "ax.plot(alpha, cv_log_error_array, c='r')\n",
    "for i, txt in enumerate(np.round(cv_log_error_array,3)):\n",
    "    ax.annotate((alpha[i],np.round(txt,3)), (alpha[i],cv_log_error_array[i]))\n",
    "    \n",
    "plt.grid()\n",
    "plt.title(\"Cross Validation Error for Each Alpha\")\n",
    "plt.xlabel(\"Alpha i's\")\n",
    "plt.ylabel(\"Error Measure\")\n",
    "plt.show()\n",
    "\n",
    "best_alpha = np.argmin(cv_log_error_array)\n",
    "\n",
    "clf = SGDClassifier(alpha=alpha[best_alpha], penalty='l2', loss='log', random_state=42)\n",
    "clf.fit(train_text, y_train)\n",
    "\n",
    "lr_sig_clf = CalibratedClassifierCV(clf, method=\"sigmoid\")\n",
    "lr_sig_clf.fit(train_text, y_train)\n",
    "\n",
    "predict_y = lr_sig_clf.predict_proba(train_text)\n",
    "print('For Values of Best Alpha =', alpha[best_alpha],\"The Train Log Loss is:\",log_loss(y_train, predict_y, labels=clf.classes_, eps=1e-15))\n",
    "\n",
    "predict_y = lr_sig_clf.predict_proba(test_text)\n",
    "print('For Values of Best Alpha =', alpha[best_alpha],\"The Test Log Loss is:\",log_loss(y_test, predict_y, labels=clf.classes_, eps=1e-15))\n",
    "\n",
    "predict_y = lr_sig_clf.predict_proba(cv_text)\n",
    "print('For Values of Best Alpha =', alpha[best_alpha],\"The Cross Validation Log Loss is:\",log_loss(y_cv, predict_y, labels=clf.classes_, eps=1e-15))"
   ]
  },
  {
   "cell_type": "code",
   "execution_count": 37,
   "metadata": {},
   "outputs": [
    {
     "name": "stdout",
     "output_type": "stream",
     "text": [
      "Logistic Regression Train Accuracy - 94.57109159082508\n",
      "Logistic Regression Test Accuracy - 93.38703317749113\n",
      "Logistic Regression CV Accuracy - 93.0150683002394\n"
     ]
    }
   ],
   "source": [
    "lr_train_accuracy = (lr_sig_clf.score(train_text, y_train)*100)\n",
    "lr_test_accuracy = (lr_sig_clf.score(test_text, y_test)*100)\n",
    "lr_cv_accuracy = (lr_sig_clf.score(cv_text, y_cv)*100)\n",
    "\n",
    "print(\"Logistic Regression Train Accuracy -\",lr_train_accuracy)\n",
    "print(\"Logistic Regression Test Accuracy -\",lr_test_accuracy)\n",
    "print(\"Logistic Regression CV Accuracy -\",lr_cv_accuracy)"
   ]
  },
  {
   "cell_type": "code",
   "execution_count": 38,
   "metadata": {},
   "outputs": [
    {
     "name": "stdout",
     "output_type": "stream",
     "text": [
      "---------------------------------------- Confusion Matrix ----------------------------------------\n"
     ]
    },
    {
     "data": {
      "image/png": "[encoded data removed]",
      "text/plain": [
       "<Figure size 576x360 with 2 Axes>"
      ]
     },
     "metadata": {
      "needs_background": "light"
     },
     "output_type": "display_data"
    },
    {
     "name": "stdout",
     "output_type": "stream",
     "text": [
      "---------------------------------------- Precision Matrix (Columm Sum=1) ----------------------------------------\n"
     ]
    },
    {
     "data": {
      "image/png": "[encoded data removed]",
      "text/plain": [
       "<Figure size 576x360 with 2 Axes>"
      ]
     },
     "metadata": {
      "needs_background": "light"
     },
     "output_type": "display_data"
    },
    {
     "name": "stdout",
     "output_type": "stream",
     "text": [
      "---------------------------------------- Recall Matrix (Row Sum=1) ----------------------------------------\n"
     ]
    },
    {
     "data": {
      "image/png": "[encoded data removed]",
      "text/plain": [
       "<Figure size 576x360 with 2 Axes>"
      ]
     },
     "metadata": {
      "needs_background": "light"
     },
     "output_type": "display_data"
    }
   ],
   "source": [
    "plot_confusion_matrix(y_cv, lr_sig_clf.predict(cv_text.toarray()))"
   ]
  },
  {
   "cell_type": "markdown",
   "metadata": {},
   "source": [
    "**<font color=blue>Predict - Test Data</font>**"
   ]
  },
  {
   "cell_type": "code",
   "execution_count": 39,
   "metadata": {},
   "outputs": [],
   "source": [
    "test_pred = lr_sig_clf.predict(test_text)"
   ]
  },
  {
   "cell_type": "code",
   "execution_count": 40,
   "metadata": {},
   "outputs": [
    {
     "name": "stdout",
     "output_type": "stream",
     "text": [
      "              precision    recall  f1-score   support\n",
      "\n",
      "    Negative       0.93      0.94      0.93      8877\n",
      "    Positive       0.94      0.93      0.93      8876\n",
      "\n",
      "    accuracy                           0.93     17753\n",
      "   macro avg       0.93      0.93      0.93     17753\n",
      "weighted avg       0.93      0.93      0.93     17753\n",
      "\n"
     ]
    }
   ],
   "source": [
    "from sklearn.metrics import classification_report\n",
    "print(classification_report(y_test, test_pred))"
   ]
  },
  {
   "cell_type": "code",
   "execution_count": 41,
   "metadata": {},
   "outputs": [
    {
     "data": {
      "text/plain": [
       "['Positive', 'Positive', 'Positive', 'Positive', 'Positive']"
      ]
     },
     "execution_count": 41,
     "metadata": {},
     "output_type": "execute_result"
    }
   ],
   "source": [
    "test_pred_list = test_pred.tolist()\n",
    "test_pred_list[:5]"
   ]
  },
  {
   "cell_type": "code",
   "execution_count": 42,
   "metadata": {},
   "outputs": [],
   "source": [
    "final_test_df = pd.DataFrame({'Text':X_test, 'Review':test_pred_list})"
   ]
  },
  {
   "cell_type": "code",
   "execution_count": 43,
   "metadata": {},
   "outputs": [
    {
     "data": {
      "text/html": [
       "<div>\n",
       "<style scoped>\n",
       "    .dataframe tbody tr th:only-of-type {\n",
       "        vertical-align: middle;\n",
       "    }\n",
       "\n",
       "    .dataframe tbody tr th {\n",
       "        vertical-align: top;\n",
       "    }\n",
       "\n",
       "    .dataframe thead th {\n",
       "        text-align: right;\n",
       "    }\n",
       "</style>\n",
       "<table border=\"1\" class=\"dataframe\">\n",
       "  <thead>\n",
       "    <tr style=\"text-align: right;\">\n",
       "      <th></th>\n",
       "      <th>Text</th>\n",
       "      <th>Review</th>\n",
       "    </tr>\n",
       "  </thead>\n",
       "  <tbody>\n",
       "    <tr>\n",
       "      <th>25678</th>\n",
       "      <td>cattitude full sass quirkiness cute original s...</td>\n",
       "      <td>Positive</td>\n",
       "    </tr>\n",
       "    <tr>\n",
       "      <th>42425</th>\n",
       "      <td>lot good ideas book seem bit stretch</td>\n",
       "      <td>Positive</td>\n",
       "    </tr>\n",
       "    <tr>\n",
       "      <th>14576</th>\n",
       "      <td>short still give savannah stuart katie reus ma...</td>\n",
       "      <td>Positive</td>\n",
       "    </tr>\n",
       "    <tr>\n",
       "      <th>24463</th>\n",
       "      <td>contents four explicit sex scenes several scen...</td>\n",
       "      <td>Positive</td>\n",
       "    </tr>\n",
       "    <tr>\n",
       "      <th>18447</th>\n",
       "      <td>rod hannah rock star every way top world anoth...</td>\n",
       "      <td>Positive</td>\n",
       "    </tr>\n",
       "    <tr>\n",
       "      <th>20891</th>\n",
       "      <td>new ground covered unless count fact domestic ...</td>\n",
       "      <td>Negative</td>\n",
       "    </tr>\n",
       "    <tr>\n",
       "      <th>29998</th>\n",
       "      <td>enjoy would recommend preteens teens unless cr...</td>\n",
       "      <td>Negative</td>\n",
       "    </tr>\n",
       "    <tr>\n",
       "      <th>17788</th>\n",
       "      <td>basic storyline good writing style stilted phr...</td>\n",
       "      <td>Negative</td>\n",
       "    </tr>\n",
       "    <tr>\n",
       "      <th>17268</th>\n",
       "      <td>seemed bad term paper lots reference books als...</td>\n",
       "      <td>Negative</td>\n",
       "    </tr>\n",
       "    <tr>\n",
       "      <th>57186</th>\n",
       "      <td>written parley p pratt soooooo got read story ...</td>\n",
       "      <td>Positive</td>\n",
       "    </tr>\n",
       "  </tbody>\n",
       "</table>\n",
       "</div>"
      ],
      "text/plain": [
       "                                                    Text    Review\n",
       "25678  cattitude full sass quirkiness cute original s...  Positive\n",
       "42425              lot good ideas book seem bit stretch   Positive\n",
       "14576  short still give savannah stuart katie reus ma...  Positive\n",
       "24463  contents four explicit sex scenes several scen...  Positive\n",
       "18447  rod hannah rock star every way top world anoth...  Positive\n",
       "20891  new ground covered unless count fact domestic ...  Negative\n",
       "29998  enjoy would recommend preteens teens unless cr...  Negative\n",
       "17788  basic storyline good writing style stilted phr...  Negative\n",
       "17268  seemed bad term paper lots reference books als...  Negative\n",
       "57186  written parley p pratt soooooo got read story ...  Positive"
      ]
     },
     "execution_count": 43,
     "metadata": {},
     "output_type": "execute_result"
    }
   ],
   "source": [
    "final_test_df.head(10)"
   ]
  },
  {
   "cell_type": "code",
   "execution_count": 61,
   "metadata": {},
   "outputs": [
    {
     "data": {
      "text/plain": [
       "array(['new ground covered unless count fact domestic violence victim rich black kept waiting something happen still waiting conflicts book laughable dani taylor seem communicate get beyond pasts intruder breaks dani apartment reggie finds scene ridiculous dani concern exposing reggie affect parents oh let forget last little gina thing please book stretched far long real insights anyone behavior oh explanations implausible could made 12 yr old sorry book boring ',\n",
       "       'Negative'], dtype=object)"
      ]
     },
     "execution_count": 61,
     "metadata": {},
     "output_type": "execute_result"
    }
   ],
   "source": [
    "final_test_df.values[5]"
   ]
  }
 ],
 "metadata": {
  "kernelspec": {
   "display_name": "Python 3",
   "language": "python",
   "name": "python3"
  },
  "language_info": {
   "codemirror_mode": {
    "name": "ipython",
    "version": 3
   },
   "file_extension": ".py",
   "mimetype": "text/x-python",
   "name": "python",
   "nbconvert_exporter": "python",
   "pygments_lexer": "ipython3",
   "version": "3.6.5"
  }
 },
 "nbformat": 4,
 "nbformat_minor": 2
}
